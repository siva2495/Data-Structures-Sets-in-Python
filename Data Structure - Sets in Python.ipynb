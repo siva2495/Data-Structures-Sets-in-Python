{
 "cells": [
  {
   "cell_type": "markdown",
   "id": "3499bf86",
   "metadata": {},
   "source": [
    "Data Structure-Sets"
   ]
  },
  {
   "cell_type": "markdown",
   "id": "16f3a775",
   "metadata": {},
   "source": [
    "What is a set?\n",
    "\n",
    "*Sets are Unorderd collection of element.\n",
    "\n",
    "*No Duplicate element present with in the set.\n",
    "\n",
    "*it can be mutable or modifiable.\n",
    "\n",
    "*Set Theory operations are possible."
   ]
  },
  {
   "cell_type": "code",
   "execution_count": 1,
   "id": "94a25580",
   "metadata": {},
   "outputs": [],
   "source": [
    "#Defining a set in python\n",
    "\n",
    "my_set = {'A', 'B', 'C', 'D', 1, 'E', 2,4 }"
   ]
  },
  {
   "cell_type": "code",
   "execution_count": 2,
   "id": "37d58f5e",
   "metadata": {},
   "outputs": [
    {
     "data": {
      "text/plain": [
       "{1, 2, 4, 'A', 'B', 'C', 'D', 'E'}"
      ]
     },
     "execution_count": 2,
     "metadata": {},
     "output_type": "execute_result"
    }
   ],
   "source": [
    "my_set"
   ]
  },
  {
   "cell_type": "code",
   "execution_count": 3,
   "id": "cc357667",
   "metadata": {},
   "outputs": [],
   "source": [
    "my_set = {'A', 'B', 'C', 'D', 1, 'E', 2, 4, 2 , 2}"
   ]
  },
  {
   "cell_type": "code",
   "execution_count": 4,
   "id": "983b4f82",
   "metadata": {},
   "outputs": [
    {
     "data": {
      "text/plain": [
       "{1, 2, 4, 'A', 'B', 'C', 'D', 'E'}"
      ]
     },
     "execution_count": 4,
     "metadata": {},
     "output_type": "execute_result"
    }
   ],
   "source": [
    "my_set"
   ]
  },
  {
   "cell_type": "code",
   "execution_count": 5,
   "id": "5bbffd37",
   "metadata": {},
   "outputs": [],
   "source": [
    "#defining a set from my list\n",
    "my_list = ['A', 'B', 1, 2, 'B', 'A']\n",
    "my_set_from_my_list = set(my_list)"
   ]
  },
  {
   "cell_type": "code",
   "execution_count": 6,
   "id": "0a501ef3",
   "metadata": {},
   "outputs": [
    {
     "data": {
      "text/plain": [
       "{1, 2, 'A', 'B'}"
      ]
     },
     "execution_count": 6,
     "metadata": {},
     "output_type": "execute_result"
    }
   ],
   "source": [
    "my_set_from_my_list"
   ]
  },
  {
   "cell_type": "code",
   "execution_count": 9,
   "id": "8ef5d915",
   "metadata": {},
   "outputs": [],
   "source": [
    "#defining set from my tuple\n",
    "my_tuple = ('A', 'B', 1, 2, 'B', 'A')\n",
    "my_set_from_my_tuple = set(my_tuple)"
   ]
  },
  {
   "cell_type": "code",
   "execution_count": 10,
   "id": "1231b86a",
   "metadata": {},
   "outputs": [
    {
     "data": {
      "text/plain": [
       "{1, 2, 'A', 'B'}"
      ]
     },
     "execution_count": 10,
     "metadata": {},
     "output_type": "execute_result"
    }
   ],
   "source": [
    "my_set_from_my_tuple"
   ]
  },
  {
   "cell_type": "code",
   "execution_count": 11,
   "id": "fabd5dc4",
   "metadata": {},
   "outputs": [
    {
     "data": {
      "text/plain": [
       "{1, 2, 4, 'A', 'B', 'C', 'D', 'E'}"
      ]
     },
     "execution_count": 11,
     "metadata": {},
     "output_type": "execute_result"
    }
   ],
   "source": [
    "my_set"
   ]
  },
  {
   "cell_type": "code",
   "execution_count": 12,
   "id": "5757d3b1",
   "metadata": {},
   "outputs": [],
   "source": [
    "#add element to the set\n",
    "my_set.add('O')"
   ]
  },
  {
   "cell_type": "code",
   "execution_count": 13,
   "id": "c674b794",
   "metadata": {},
   "outputs": [
    {
     "data": {
      "text/plain": [
       "{1, 2, 4, 'A', 'B', 'C', 'D', 'E', 'O'}"
      ]
     },
     "execution_count": 13,
     "metadata": {},
     "output_type": "execute_result"
    }
   ],
   "source": [
    "my_set"
   ]
  },
  {
   "cell_type": "markdown",
   "id": "9e217382",
   "metadata": {},
   "source": [
    "#Delete the Element form the list\n",
    "\n",
    "*discard - It will not through an error, if the element you want to remove is not present in the set.\n",
    "\n",
    "*romove - It will through an error, if the element you want to remove is not present in the set."
   ]
  },
  {
   "cell_type": "code",
   "execution_count": 14,
   "id": "b0620c1a",
   "metadata": {},
   "outputs": [
    {
     "data": {
      "text/plain": [
       "{1, 2, 4, 'A', 'B', 'C', 'D', 'E', 'O'}"
      ]
     },
     "execution_count": 14,
     "metadata": {},
     "output_type": "execute_result"
    }
   ],
   "source": [
    "my_set"
   ]
  },
  {
   "cell_type": "code",
   "execution_count": 15,
   "id": "8cc59b60",
   "metadata": {},
   "outputs": [],
   "source": [
    "my_set.discard('X')"
   ]
  },
  {
   "cell_type": "code",
   "execution_count": 16,
   "id": "db890675",
   "metadata": {},
   "outputs": [
    {
     "ename": "KeyError",
     "evalue": "'X'",
     "output_type": "error",
     "traceback": [
      "\u001b[1;31m---------------------------------------------------------------------------\u001b[0m",
      "\u001b[1;31mKeyError\u001b[0m                                  Traceback (most recent call last)",
      "\u001b[1;32m<ipython-input-16-b6f9b758b157>\u001b[0m in \u001b[0;36m<module>\u001b[1;34m\u001b[0m\n\u001b[1;32m----> 1\u001b[1;33m \u001b[0mmy_set\u001b[0m\u001b[1;33m.\u001b[0m\u001b[0mremove\u001b[0m\u001b[1;33m(\u001b[0m\u001b[1;34m'X'\u001b[0m\u001b[1;33m)\u001b[0m\u001b[1;33m\u001b[0m\u001b[1;33m\u001b[0m\u001b[0m\n\u001b[0m",
      "\u001b[1;31mKeyError\u001b[0m: 'X'"
     ]
    }
   ],
   "source": [
    "my_set.remove('X')"
   ]
  },
  {
   "cell_type": "markdown",
   "id": "9d98b79d",
   "metadata": {},
   "source": [
    "Difference between two sets (A-B)"
   ]
  },
  {
   "cell_type": "code",
   "execution_count": 17,
   "id": "24e23b9c",
   "metadata": {},
   "outputs": [
    {
     "data": {
      "text/plain": [
       "{1, 2, 4, 'A', 'B', 'C', 'D', 'E', 'O'}"
      ]
     },
     "execution_count": 17,
     "metadata": {},
     "output_type": "execute_result"
    }
   ],
   "source": [
    "#set1\n",
    "my_set"
   ]
  },
  {
   "cell_type": "code",
   "execution_count": 18,
   "id": "97e918b8",
   "metadata": {},
   "outputs": [
    {
     "data": {
      "text/plain": [
       "{1, 2, 'A', 'B'}"
      ]
     },
     "execution_count": 18,
     "metadata": {},
     "output_type": "execute_result"
    }
   ],
   "source": [
    "#set2\n",
    "my_set_from_my_list"
   ]
  },
  {
   "cell_type": "code",
   "execution_count": 20,
   "id": "078b9c04",
   "metadata": {},
   "outputs": [
    {
     "data": {
      "text/plain": [
       "{4, 'C', 'D', 'E', 'O'}"
      ]
     },
     "execution_count": 20,
     "metadata": {},
     "output_type": "execute_result"
    }
   ],
   "source": [
    "#difference of 2 sets\n",
    "my_set.difference(my_set_from_my_list)"
   ]
  },
  {
   "cell_type": "code",
   "execution_count": 21,
   "id": "8d709b7c",
   "metadata": {},
   "outputs": [
    {
     "data": {
      "text/plain": [
       "{1, 2, 4, 'A', 'B', 'C', 'D', 'E', 'O'}"
      ]
     },
     "execution_count": 21,
     "metadata": {},
     "output_type": "execute_result"
    }
   ],
   "source": [
    "#it will not update to result, if not stored in a variable\n",
    "my_set"
   ]
  },
  {
   "cell_type": "code",
   "execution_count": 22,
   "id": "2b492d57",
   "metadata": {},
   "outputs": [
    {
     "data": {
      "text/plain": [
       "{1, 2, 'A', 'B'}"
      ]
     },
     "execution_count": 22,
     "metadata": {},
     "output_type": "execute_result"
    }
   ],
   "source": [
    "my_set_from_my_list"
   ]
  },
  {
   "cell_type": "code",
   "execution_count": 23,
   "id": "0dcee741",
   "metadata": {},
   "outputs": [],
   "source": [
    "#use the difference_update to store the result directly\n",
    "my_set.difference_update(my_set_from_my_list)"
   ]
  },
  {
   "cell_type": "code",
   "execution_count": 24,
   "id": "8e75c479",
   "metadata": {},
   "outputs": [
    {
     "data": {
      "text/plain": [
       "{4, 'C', 'D', 'E', 'O'}"
      ]
     },
     "execution_count": 24,
     "metadata": {},
     "output_type": "execute_result"
    }
   ],
   "source": [
    "#updated set\n",
    "my_set"
   ]
  },
  {
   "cell_type": "markdown",
   "id": "30ad608f",
   "metadata": {},
   "source": [
    "Intersection of two sets"
   ]
  },
  {
   "cell_type": "code",
   "execution_count": 25,
   "id": "573b9c4b",
   "metadata": {},
   "outputs": [],
   "source": [
    "#set1\n",
    "my_set = {1, 2, 4, 'A', 'B', 'C', 'D', 'E', 'O'}"
   ]
  },
  {
   "cell_type": "code",
   "execution_count": 26,
   "id": "47497559",
   "metadata": {},
   "outputs": [],
   "source": [
    "#set2\n",
    "my_set_from_my_list = {1, 2, 'A', 'B'}"
   ]
  },
  {
   "cell_type": "code",
   "execution_count": 27,
   "id": "caaf644d",
   "metadata": {},
   "outputs": [
    {
     "data": {
      "text/plain": [
       "{1, 2, 'A', 'B'}"
      ]
     },
     "execution_count": 27,
     "metadata": {},
     "output_type": "execute_result"
    }
   ],
   "source": [
    "#intersection of two sets\n",
    "my_set.intersection(my_set_from_my_list)"
   ]
  },
  {
   "cell_type": "code",
   "execution_count": 28,
   "id": "a08d3004",
   "metadata": {},
   "outputs": [
    {
     "data": {
      "text/plain": [
       "{1, 2, 4, 'A', 'B', 'C', 'D', 'E', 'O'}"
      ]
     },
     "execution_count": 28,
     "metadata": {},
     "output_type": "execute_result"
    }
   ],
   "source": [
    "# it will not update the results, if not stored in a variable\n",
    "my_set"
   ]
  },
  {
   "cell_type": "code",
   "execution_count": 33,
   "id": "88cba986",
   "metadata": {},
   "outputs": [],
   "source": [
    "# to update directly, use intersection_update\n",
    "my_set.intersection_update(my_set_from_my_list)"
   ]
  },
  {
   "cell_type": "code",
   "execution_count": 34,
   "id": "52f8c81d",
   "metadata": {},
   "outputs": [
    {
     "data": {
      "text/plain": [
       "{1, 2, 'A', 'B'}"
      ]
     },
     "execution_count": 34,
     "metadata": {},
     "output_type": "execute_result"
    }
   ],
   "source": [
    "#updated set\n",
    "my_set"
   ]
  },
  {
   "cell_type": "raw",
   "id": "eaa6ab4d",
   "metadata": {},
   "source": [
    "#Other operations on set\n",
    "*isdisjoint\n",
    "*issubset\n",
    "*issuperset\n",
    "*union"
   ]
  },
  {
   "cell_type": "code",
   "execution_count": 35,
   "id": "ae372d32",
   "metadata": {},
   "outputs": [],
   "source": [
    "#Define three random sets\n",
    "sample_set_1 = {'A', 'B', 'C', 'D', 'E', 'F'}\n",
    "sample_set_2 = {'A', 'D', 'E'}\n",
    "sample_set_3 = {'S', 'T', 'U'}"
   ]
  },
  {
   "cell_type": "code",
   "execution_count": 39,
   "id": "3c44f613",
   "metadata": {},
   "outputs": [
    {
     "data": {
      "text/plain": [
       "False"
      ]
     },
     "execution_count": 39,
     "metadata": {},
     "output_type": "execute_result"
    }
   ],
   "source": [
    "# check if 2 sets are disjoint sets\n",
    "sample_set_1.isdisjoint(sample_set_2)"
   ]
  },
  {
   "cell_type": "code",
   "execution_count": 40,
   "id": "db039d06",
   "metadata": {},
   "outputs": [
    {
     "data": {
      "text/plain": [
       "True"
      ]
     },
     "execution_count": 40,
     "metadata": {},
     "output_type": "execute_result"
    }
   ],
   "source": [
    "sample_set_1.isdisjoint(sample_set_3)"
   ]
  },
  {
   "cell_type": "code",
   "execution_count": 41,
   "id": "ddacdb85",
   "metadata": {},
   "outputs": [
    {
     "data": {
      "text/plain": [
       "False"
      ]
     },
     "execution_count": 41,
     "metadata": {},
     "output_type": "execute_result"
    }
   ],
   "source": [
    "# Check if one sets is subset of another set\n",
    "sample_set_1.issubset(sample_set_2)"
   ]
  },
  {
   "cell_type": "code",
   "execution_count": 45,
   "id": "02dafc03",
   "metadata": {},
   "outputs": [
    {
     "data": {
      "text/plain": [
       "False"
      ]
     },
     "execution_count": 45,
     "metadata": {},
     "output_type": "execute_result"
    }
   ],
   "source": [
    "sample_set_3.issubset(sample_set_1)"
   ]
  },
  {
   "cell_type": "code",
   "execution_count": 44,
   "id": "433ffe65",
   "metadata": {},
   "outputs": [
    {
     "data": {
      "text/plain": [
       "True"
      ]
     },
     "execution_count": 44,
     "metadata": {},
     "output_type": "execute_result"
    }
   ],
   "source": [
    "sample_set_2.issubset(sample_set_1)"
   ]
  },
  {
   "cell_type": "code",
   "execution_count": 46,
   "id": "874fab00",
   "metadata": {},
   "outputs": [
    {
     "data": {
      "text/plain": [
       "True"
      ]
     },
     "execution_count": 46,
     "metadata": {},
     "output_type": "execute_result"
    }
   ],
   "source": [
    "#check if one set is superset of another\n",
    "sample_set_1.issuperset(sample_set_2)"
   ]
  },
  {
   "cell_type": "code",
   "execution_count": 47,
   "id": "088fc90f",
   "metadata": {},
   "outputs": [
    {
     "data": {
      "text/plain": [
       "False"
      ]
     },
     "execution_count": 47,
     "metadata": {},
     "output_type": "execute_result"
    }
   ],
   "source": [
    "sample_set_1.issuperset(sample_set_3)"
   ]
  },
  {
   "cell_type": "code",
   "execution_count": 49,
   "id": "afd25815",
   "metadata": {},
   "outputs": [
    {
     "data": {
      "text/plain": [
       "{'A', 'B', 'C', 'D', 'E', 'F', 'S', 'T', 'U'}"
      ]
     },
     "execution_count": 49,
     "metadata": {},
     "output_type": "execute_result"
    }
   ],
   "source": [
    "#Union of 2 sets\n",
    "sample_set_1.union(sample_set_3)"
   ]
  },
  {
   "cell_type": "code",
   "execution_count": 50,
   "id": "4c8a299a",
   "metadata": {},
   "outputs": [],
   "source": [
    "# update a set with new values, it will add the values which are not present in the original set.\n",
    "sample_set_1.update({'C', 'D', 'E', 'R', 'Z'})"
   ]
  },
  {
   "cell_type": "code",
   "execution_count": 51,
   "id": "21b01940",
   "metadata": {},
   "outputs": [
    {
     "data": {
      "text/plain": [
       "{'A', 'B', 'C', 'D', 'E', 'F', 'R', 'Z'}"
      ]
     },
     "execution_count": 51,
     "metadata": {},
     "output_type": "execute_result"
    }
   ],
   "source": [
    "sample_set_1"
   ]
  },
  {
   "cell_type": "code",
   "execution_count": 52,
   "id": "93b3aaff",
   "metadata": {},
   "outputs": [
    {
     "name": "stdout",
     "output_type": "stream",
     "text": [
      "C\n",
      "D\n",
      "F\n",
      "R\n",
      "B\n",
      "E\n",
      "Z\n",
      "A\n"
     ]
    }
   ],
   "source": [
    "#iterate the set\n",
    "\n",
    "for element in sample_set_1:\n",
    "    print(element)"
   ]
  },
  {
   "cell_type": "code",
   "execution_count": null,
   "id": "60370c93",
   "metadata": {},
   "outputs": [],
   "source": []
  }
 ],
 "metadata": {
  "kernelspec": {
   "display_name": "Python 3",
   "language": "python",
   "name": "python3"
  },
  "language_info": {
   "codemirror_mode": {
    "name": "ipython",
    "version": 3
   },
   "file_extension": ".py",
   "mimetype": "text/x-python",
   "name": "python",
   "nbconvert_exporter": "python",
   "pygments_lexer": "ipython3",
   "version": "3.8.8"
  }
 },
 "nbformat": 4,
 "nbformat_minor": 5
}
